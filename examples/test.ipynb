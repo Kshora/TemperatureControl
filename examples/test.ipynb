{
 "cells": [
  {
   "cell_type": "markdown",
   "metadata": {},
   "source": [
    "# ft232h.py update\n",
    "Streamlining the code, checking if it works."
   ]
  },
  {
   "cell_type": "code",
   "execution_count": 1,
   "metadata": {},
   "outputs": [],
   "source": [
    "class board:\n",
    "    C0, C1, C2, C3, C4, C5, C6, C7, D4, D5, D6, D7 = [0]*12\n",
    "\n",
    "pin_map = {\n",
    "    \"c0\": board.C0,\n",
    "    \"c1\": board.C1,\n",
    "    \"c2\": board.C2,\n",
    "    \"c3\": board.C3,\n",
    "    \"c4\": board.C4,\n",
    "    \"c5\": board.C5,\n",
    "    \"c6\": board.C6,\n",
    "    \"c7\": board.C7,\n",
    "    \"d4\": board.D4,\n",
    "    \"d5\": board.D5,\n",
    "    \"d6\": board.D6,\n",
    "    \"d7\": board.D7,\n",
    "    }"
   ]
  },
  {
   "cell_type": "code",
   "execution_count": 2,
   "metadata": {},
   "outputs": [
    {
     "name": "stdout",
     "output_type": "stream",
     "text": [
      "0\n"
     ]
    }
   ],
   "source": [
    "pin = pin_map.get('c0')\n",
    "if pin is None:\n",
    "    print('no such pin')\n",
    "else:\n",
    "    print(pin)"
   ]
  },
  {
   "cell_type": "code",
   "execution_count": 6,
   "metadata": {},
   "outputs": [],
   "source": [
    "import sys\n",
    "sys.path.append('../')\n",
    "from readsettings import select_settings"
   ]
  },
  {
   "cell_type": "code",
   "execution_count": 14,
   "metadata": {},
   "outputs": [],
   "source": [
    "config = select_settings('../settings.yml')"
   ]
  },
  {
   "cell_type": "code",
   "execution_count": 13,
   "metadata": {},
   "outputs": [
    {
     "data": {
      "text/plain": [
       "0.1"
      ]
     },
     "execution_count": 13,
     "metadata": {},
     "output_type": "execute_result"
    }
   ],
   "source": [
    "config['Sampling Time']"
   ]
  },
  {
   "cell_type": "code",
   "execution_count": 15,
   "metadata": {},
   "outputs": [
    {
     "data": {
      "text/plain": [
       "0.01"
      ]
     },
     "execution_count": 15,
     "metadata": {},
     "output_type": "execute_result"
    }
   ],
   "source": [
    "config['Duty Cycle']"
   ]
  }
 ],
 "metadata": {
  "kernelspec": {
   "display_name": "py311",
   "language": "python",
   "name": "python3"
  },
  "language_info": {
   "codemirror_mode": {
    "name": "ipython",
    "version": 3
   },
   "file_extension": ".py",
   "mimetype": "text/x-python",
   "name": "python",
   "nbconvert_exporter": "python",
   "pygments_lexer": "ipython3",
   "version": "3.11.5"
  }
 },
 "nbformat": 4,
 "nbformat_minor": 2
}
